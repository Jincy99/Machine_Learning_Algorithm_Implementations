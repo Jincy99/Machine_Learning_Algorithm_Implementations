{
 "cells": [
  {
   "cell_type": "code",
   "execution_count": 10,
   "metadata": {},
   "outputs": [
    {
     "name": "stdout",
     "output_type": "stream",
     "text": [
      "\n",
      " The most general Hypithesis::['?','?','?','?','?','?']\n",
      "\n",
      " The most Specific Hypothesis::['0','0','0','0','0','0']\n",
      "\n",
      " The given Training Dataset:\n",
      "['Sunny', 'Warm', 'Normal', 'Strong', 'Warm', 'Same', 'Yes']\n",
      "['Sunny', 'Warm', 'High', 'Strong', 'Warm', 'Same', 'Yes']\n",
      "['Rainy', 'Cold', 'High', 'Strong', 'Warm', 'Change', 'No']\n",
      "['Sunny', 'Warm', 'High', 'Strong', 'Cool', 'Change', 'Yes']\n",
      "\n",
      " The initial value of Hypothesis is: \n",
      "['0', '0', '0', '0', '0', '0']\n",
      "\n",
      " Find-S: Finding the maximally specific Hypothesis:\n",
      "\n",
      " For training example no 0 the hypothsesis is:  ['Sunny', 'Warm', 'Normal', 'Strong', 'Warm', 'Same']\n",
      "\n",
      " For training example no 1 the hypothsesis is:  ['Sunny', 'Warm', '?', 'Strong', 'Warm', 'Same']\n",
      "\n",
      " For training example no 2 the hypothsesis is:  ['Sunny', 'Warm', '?', 'Strong', 'Warm', 'Same']\n",
      "\n",
      " For training example no 3 the hypothsesis is:  ['Sunny', 'Warm', '?', 'Strong', '?', '?']\n",
      "\n",
      " The maximally specific Hypothesis is: \n",
      "['Sunny', 'Warm', '?', 'Strong', '?', '?']\n"
     ]
    }
   ],
   "source": [
    "import random\n",
    "import csv\n",
    "attributes=[['sunny','rainy'],\n",
    "           ['warm','cold'],\n",
    "           ['normal','high'],\n",
    "           ['stong','weak'],\n",
    "           ['warm','cool'],\n",
    "           ['same','change']]\n",
    "number_attributes=len(attributes)\n",
    "print(\"\\n The most general Hypithesis::['?','?','?','?','?','?']\")\n",
    "print(\"\\n The most Specific Hypothesis::['0','0','0','0','0','0']\")\n",
    "a=[]\n",
    "print(\"\\n The given Training Dataset:\")\n",
    "with open('C:\\\\Users\\\\PARAPPALLIL\\\\7th_semetsr\\\\Notes\\\\Machine Learning\\\\ws.csv','r') as csvFile:\n",
    "    reader=csv.reader(csvFile)\n",
    "    for row in reader:\n",
    "        a.append(row)\n",
    "        print(row)\n",
    "print(\"\\n The initial value of Hypothesis is: \")\n",
    "hypothesis=['0']*number_attributes\n",
    "print(hypothesis)\n",
    "for j in range(0,number_attributes):\n",
    "    hypothesis[j]=a[0][j]\n",
    "print(\"\\n Find-S: Finding the maximally specific Hypothesis:\")\n",
    "for i in range(0,len(a)):\n",
    "    if a[i][number_attributes]=='Yes':\n",
    "        for j in range(0,number_attributes):\n",
    "            if a[i][j]!=hypothesis[j]:\n",
    "                hypothesis[j]='?'\n",
    "            else:\n",
    "                hypothesis[j]=a[i][j]\n",
    "    print(\"\\n For training example no {0} the hypothsesis is: \".format(i),hypothesis)\n",
    "print(\"\\n The maximally specific Hypothesis is: \")\n",
    "print(hypothesis)"
   ]
  },
  {
   "cell_type": "code",
   "execution_count": null,
   "metadata": {},
   "outputs": [],
   "source": []
  },
  {
   "cell_type": "code",
   "execution_count": null,
   "metadata": {},
   "outputs": [],
   "source": []
  }
 ],
 "metadata": {
  "kernelspec": {
   "display_name": "Python 3",
   "language": "python",
   "name": "python3"
  },
  "language_info": {
   "codemirror_mode": {
    "name": "ipython",
    "version": 3
   },
   "file_extension": ".py",
   "mimetype": "text/x-python",
   "name": "python",
   "nbconvert_exporter": "python",
   "pygments_lexer": "ipython3",
   "version": "3.8.3"
  }
 },
 "nbformat": 4,
 "nbformat_minor": 4
}
