{
 "cells": [
  {
   "cell_type": "code",
   "execution_count": 13,
   "metadata": {},
   "outputs": [],
   "source": [
    "import numpy as np\n",
    "X=np.array(([2,9],[1,5],[3,6]),dtype=float)\n",
    "y=np.array(([92],[86],[89]),dtype=float)\n",
    "X=X/np.amax(X,axis=0)\n",
    "y=y/100"
   ]
  },
  {
   "cell_type": "code",
   "execution_count": 16,
   "metadata": {},
   "outputs": [
    {
     "name": "stdout",
     "output_type": "stream",
     "text": [
      "Initial values: [[0.66666667 1.        ]\n",
      " [0.33333333 0.55555556]\n",
      " [1.         0.66666667]]\n",
      "Target Error: [[0.92]\n",
      " [0.86]\n",
      " [0.89]]\n",
      "Predicted output:  [[0.89638711]\n",
      " [0.87228283]\n",
      " [0.90101524]]\n"
     ]
    }
   ],
   "source": [
    "def sigmoid(X):\n",
    "    return 1/(1+np.exp(-X))\n",
    "def sigmoid_grad(X):\n",
    "    return X*(1-X)\n",
    "epoch=1000\n",
    "eta=0.2 \n",
    "input_neurons=2\n",
    "hidden_neurons=3\n",
    "output_neurons=1   \n",
    "wh=np.random.uniform(size=(input_neurons,hidden_neurons))\n",
    "bh=np.random.uniform(size=(1,hidden_neurons))\n",
    "wout=np.random.uniform(size=(hidden_neurons,output_neurons))\n",
    "bout=np.random.uniform(size=(1,output_neurons))\n",
    "for i in range(epoch):\n",
    "    h_ip=np.dot(X,wh)+bh\n",
    "    h_act=sigmoid(h_ip)\n",
    "    o_ip=np.dot(h_act,wout)\n",
    "    output=sigmoid(o_ip)\n",
    "    Eo=y-output\n",
    "    outgrad=sigmoid_grad(output)\n",
    "    d_output=Eo*outgrad\n",
    "    Eh=d_output.dot(wout.T)\n",
    "    hiddengrad=sigmoid_grad(h_act)\n",
    "    d_hidden=Eh*hiddengrad\n",
    "    wout +=h_act.T.dot(d_output)*eta\n",
    "    wh +=X.T.dot(d_hidden)*eta\n",
    "print(\"Initial values: \"+str(X))\n",
    "print(\"Target Error: \"+str(y))\n",
    "print(\"Predicted output: \",output)"
   ]
  },
  {
   "cell_type": "code",
   "execution_count": null,
   "metadata": {},
   "outputs": [],
   "source": []
  },
  {
   "cell_type": "code",
   "execution_count": null,
   "metadata": {},
   "outputs": [],
   "source": []
  },
  {
   "cell_type": "code",
   "execution_count": null,
   "metadata": {},
   "outputs": [],
   "source": []
  }
 ],
 "metadata": {
  "kernelspec": {
   "display_name": "Python 3",
   "language": "python",
   "name": "python3"
  },
  "language_info": {
   "codemirror_mode": {
    "name": "ipython",
    "version": 3
   },
   "file_extension": ".py",
   "mimetype": "text/x-python",
   "name": "python",
   "nbconvert_exporter": "python",
   "pygments_lexer": "ipython3",
   "version": "3.8.3"
  }
 },
 "nbformat": 4,
 "nbformat_minor": 4
}
